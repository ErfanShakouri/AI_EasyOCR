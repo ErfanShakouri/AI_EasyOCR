{
  "nbformat": 4,
  "nbformat_minor": 0,
  "metadata": {
    "colab": {
      "provenance": [],
      "gpuType": "T4"
    },
    "kernelspec": {
      "name": "python3",
      "display_name": "Python 3"
    },
    "language_info": {
      "name": "python"
    },
    "accelerator": "GPU"
  },
  "cells": [
    {
      "cell_type": "markdown",
      "source": [
        "# Run easyocr"
      ],
      "metadata": {
        "id": "eDiny2LKGDEV"
      }
    },
    {
      "cell_type": "code",
      "execution_count": null,
      "metadata": {
        "colab": {
          "base_uri": "https://localhost:8080/"
        },
        "id": "SVzashpaFvy5",
        "outputId": "6474982e-aa5f-48fd-bbd6-d8f6ae2ce165"
      },
      "outputs": [
        {
          "output_type": "stream",
          "name": "stdout",
          "text": [
            "Drive already mounted at /content/drive; to attempt to forcibly remount, call drive.mount(\"/content/drive\", force_remount=True).\n"
          ]
        }
      ],
      "source": [
        "from google.colab import drive\n",
        "import os\n",
        "drive.mount('/content/drive')"
      ]
    },
    {
      "cell_type": "code",
      "source": [
        "pip install easyocr fire lmdb opencv-python natsort nltk\n"
      ],
      "metadata": {
        "colab": {
          "base_uri": "https://localhost:8080/"
        },
        "id": "C8e83haq1s2C",
        "outputId": "fe52b5fd-2acc-4238-d207-7a23a8027047"
      },
      "execution_count": null,
      "outputs": [
        {
          "output_type": "stream",
          "name": "stdout",
          "text": [
            "Requirement already satisfied: easyocr in /usr/local/lib/python3.12/dist-packages (1.7.2)\n",
            "Requirement already satisfied: fire in /usr/local/lib/python3.12/dist-packages (0.7.1)\n",
            "Requirement already satisfied: lmdb in /usr/local/lib/python3.12/dist-packages (1.7.3)\n",
            "Requirement already satisfied: opencv-python in /usr/local/lib/python3.12/dist-packages (4.12.0.88)\n",
            "Requirement already satisfied: natsort in /usr/local/lib/python3.12/dist-packages (8.4.0)\n",
            "Requirement already satisfied: nltk in /usr/local/lib/python3.12/dist-packages (3.9.1)\n",
            "Requirement already satisfied: torch in /usr/local/lib/python3.12/dist-packages (from easyocr) (2.8.0+cu126)\n",
            "Requirement already satisfied: torchvision>=0.5 in /usr/local/lib/python3.12/dist-packages (from easyocr) (0.23.0+cu126)\n",
            "Requirement already satisfied: opencv-python-headless in /usr/local/lib/python3.12/dist-packages (from easyocr) (4.12.0.88)\n",
            "Requirement already satisfied: scipy in /usr/local/lib/python3.12/dist-packages (from easyocr) (1.16.1)\n",
            "Requirement already satisfied: numpy in /usr/local/lib/python3.12/dist-packages (from easyocr) (2.0.2)\n",
            "Requirement already satisfied: Pillow in /usr/local/lib/python3.12/dist-packages (from easyocr) (11.3.0)\n",
            "Requirement already satisfied: scikit-image in /usr/local/lib/python3.12/dist-packages (from easyocr) (0.25.2)\n",
            "Requirement already satisfied: python-bidi in /usr/local/lib/python3.12/dist-packages (from easyocr) (0.6.6)\n",
            "Requirement already satisfied: PyYAML in /usr/local/lib/python3.12/dist-packages (from easyocr) (6.0.2)\n",
            "Requirement already satisfied: Shapely in /usr/local/lib/python3.12/dist-packages (from easyocr) (2.1.1)\n",
            "Requirement already satisfied: pyclipper in /usr/local/lib/python3.12/dist-packages (from easyocr) (1.3.0.post6)\n",
            "Requirement already satisfied: ninja in /usr/local/lib/python3.12/dist-packages (from easyocr) (1.13.0)\n",
            "Requirement already satisfied: termcolor in /usr/local/lib/python3.12/dist-packages (from fire) (3.1.0)\n",
            "Requirement already satisfied: click in /usr/local/lib/python3.12/dist-packages (from nltk) (8.2.1)\n",
            "Requirement already satisfied: joblib in /usr/local/lib/python3.12/dist-packages (from nltk) (1.5.2)\n",
            "Requirement already satisfied: regex>=2021.8.3 in /usr/local/lib/python3.12/dist-packages (from nltk) (2024.11.6)\n",
            "Requirement already satisfied: tqdm in /usr/local/lib/python3.12/dist-packages (from nltk) (4.67.1)\n",
            "Requirement already satisfied: filelock in /usr/local/lib/python3.12/dist-packages (from torch->easyocr) (3.19.1)\n",
            "Requirement already satisfied: typing-extensions>=4.10.0 in /usr/local/lib/python3.12/dist-packages (from torch->easyocr) (4.15.0)\n",
            "Requirement already satisfied: setuptools in /usr/local/lib/python3.12/dist-packages (from torch->easyocr) (75.2.0)\n",
            "Requirement already satisfied: sympy>=1.13.3 in /usr/local/lib/python3.12/dist-packages (from torch->easyocr) (1.13.3)\n",
            "Requirement already satisfied: networkx in /usr/local/lib/python3.12/dist-packages (from torch->easyocr) (3.5)\n",
            "Requirement already satisfied: jinja2 in /usr/local/lib/python3.12/dist-packages (from torch->easyocr) (3.1.6)\n",
            "Requirement already satisfied: fsspec in /usr/local/lib/python3.12/dist-packages (from torch->easyocr) (2025.3.0)\n",
            "Requirement already satisfied: nvidia-cuda-nvrtc-cu12==12.6.77 in /usr/local/lib/python3.12/dist-packages (from torch->easyocr) (12.6.77)\n",
            "Requirement already satisfied: nvidia-cuda-runtime-cu12==12.6.77 in /usr/local/lib/python3.12/dist-packages (from torch->easyocr) (12.6.77)\n",
            "Requirement already satisfied: nvidia-cuda-cupti-cu12==12.6.80 in /usr/local/lib/python3.12/dist-packages (from torch->easyocr) (12.6.80)\n",
            "Requirement already satisfied: nvidia-cudnn-cu12==9.10.2.21 in /usr/local/lib/python3.12/dist-packages (from torch->easyocr) (9.10.2.21)\n",
            "Requirement already satisfied: nvidia-cublas-cu12==12.6.4.1 in /usr/local/lib/python3.12/dist-packages (from torch->easyocr) (12.6.4.1)\n",
            "Requirement already satisfied: nvidia-cufft-cu12==11.3.0.4 in /usr/local/lib/python3.12/dist-packages (from torch->easyocr) (11.3.0.4)\n",
            "Requirement already satisfied: nvidia-curand-cu12==10.3.7.77 in /usr/local/lib/python3.12/dist-packages (from torch->easyocr) (10.3.7.77)\n",
            "Requirement already satisfied: nvidia-cusolver-cu12==11.7.1.2 in /usr/local/lib/python3.12/dist-packages (from torch->easyocr) (11.7.1.2)\n",
            "Requirement already satisfied: nvidia-cusparse-cu12==12.5.4.2 in /usr/local/lib/python3.12/dist-packages (from torch->easyocr) (12.5.4.2)\n",
            "Requirement already satisfied: nvidia-cusparselt-cu12==0.7.1 in /usr/local/lib/python3.12/dist-packages (from torch->easyocr) (0.7.1)\n",
            "Requirement already satisfied: nvidia-nccl-cu12==2.27.3 in /usr/local/lib/python3.12/dist-packages (from torch->easyocr) (2.27.3)\n",
            "Requirement already satisfied: nvidia-nvtx-cu12==12.6.77 in /usr/local/lib/python3.12/dist-packages (from torch->easyocr) (12.6.77)\n",
            "Requirement already satisfied: nvidia-nvjitlink-cu12==12.6.85 in /usr/local/lib/python3.12/dist-packages (from torch->easyocr) (12.6.85)\n",
            "Requirement already satisfied: nvidia-cufile-cu12==1.11.1.6 in /usr/local/lib/python3.12/dist-packages (from torch->easyocr) (1.11.1.6)\n",
            "Requirement already satisfied: triton==3.4.0 in /usr/local/lib/python3.12/dist-packages (from torch->easyocr) (3.4.0)\n",
            "Requirement already satisfied: imageio!=2.35.0,>=2.33 in /usr/local/lib/python3.12/dist-packages (from scikit-image->easyocr) (2.37.0)\n",
            "Requirement already satisfied: tifffile>=2022.8.12 in /usr/local/lib/python3.12/dist-packages (from scikit-image->easyocr) (2025.8.28)\n",
            "Requirement already satisfied: packaging>=21 in /usr/local/lib/python3.12/dist-packages (from scikit-image->easyocr) (25.0)\n",
            "Requirement already satisfied: lazy-loader>=0.4 in /usr/local/lib/python3.12/dist-packages (from scikit-image->easyocr) (0.4)\n",
            "Requirement already satisfied: mpmath<1.4,>=1.1.0 in /usr/local/lib/python3.12/dist-packages (from sympy>=1.13.3->torch->easyocr) (1.3.0)\n",
            "Requirement already satisfied: MarkupSafe>=2.0 in /usr/local/lib/python3.12/dist-packages (from jinja2->torch->easyocr) (3.0.2)\n"
          ]
        }
      ]
    },
    {
      "cell_type": "code",
      "source": [
        "pip install torch torchvision torchaudio --index-url https://download.pytorch.org/whl/cu118\n"
      ],
      "metadata": {
        "colab": {
          "base_uri": "https://localhost:8080/"
        },
        "id": "zfTn4kaD1szy",
        "outputId": "dbe063bb-1d69-4b6d-9ba4-bf403a94f9bb"
      },
      "execution_count": null,
      "outputs": [
        {
          "output_type": "stream",
          "name": "stdout",
          "text": [
            "Looking in indexes: https://download.pytorch.org/whl/cu118\n",
            "Requirement already satisfied: torch in /usr/local/lib/python3.12/dist-packages (2.8.0+cu126)\n",
            "Requirement already satisfied: torchvision in /usr/local/lib/python3.12/dist-packages (0.23.0+cu126)\n",
            "Requirement already satisfied: torchaudio in /usr/local/lib/python3.12/dist-packages (2.8.0+cu126)\n",
            "Requirement already satisfied: filelock in /usr/local/lib/python3.12/dist-packages (from torch) (3.19.1)\n",
            "Requirement already satisfied: typing-extensions>=4.10.0 in /usr/local/lib/python3.12/dist-packages (from torch) (4.15.0)\n",
            "Requirement already satisfied: setuptools in /usr/local/lib/python3.12/dist-packages (from torch) (75.2.0)\n",
            "Requirement already satisfied: sympy>=1.13.3 in /usr/local/lib/python3.12/dist-packages (from torch) (1.13.3)\n",
            "Requirement already satisfied: networkx in /usr/local/lib/python3.12/dist-packages (from torch) (3.5)\n",
            "Requirement already satisfied: jinja2 in /usr/local/lib/python3.12/dist-packages (from torch) (3.1.6)\n",
            "Requirement already satisfied: fsspec in /usr/local/lib/python3.12/dist-packages (from torch) (2025.3.0)\n",
            "Requirement already satisfied: nvidia-cuda-nvrtc-cu12==12.6.77 in /usr/local/lib/python3.12/dist-packages (from torch) (12.6.77)\n",
            "Requirement already satisfied: nvidia-cuda-runtime-cu12==12.6.77 in /usr/local/lib/python3.12/dist-packages (from torch) (12.6.77)\n",
            "Requirement already satisfied: nvidia-cuda-cupti-cu12==12.6.80 in /usr/local/lib/python3.12/dist-packages (from torch) (12.6.80)\n",
            "Requirement already satisfied: nvidia-cudnn-cu12==9.10.2.21 in /usr/local/lib/python3.12/dist-packages (from torch) (9.10.2.21)\n",
            "Requirement already satisfied: nvidia-cublas-cu12==12.6.4.1 in /usr/local/lib/python3.12/dist-packages (from torch) (12.6.4.1)\n",
            "Requirement already satisfied: nvidia-cufft-cu12==11.3.0.4 in /usr/local/lib/python3.12/dist-packages (from torch) (11.3.0.4)\n",
            "Requirement already satisfied: nvidia-curand-cu12==10.3.7.77 in /usr/local/lib/python3.12/dist-packages (from torch) (10.3.7.77)\n",
            "Requirement already satisfied: nvidia-cusolver-cu12==11.7.1.2 in /usr/local/lib/python3.12/dist-packages (from torch) (11.7.1.2)\n",
            "Requirement already satisfied: nvidia-cusparse-cu12==12.5.4.2 in /usr/local/lib/python3.12/dist-packages (from torch) (12.5.4.2)\n",
            "Requirement already satisfied: nvidia-cusparselt-cu12==0.7.1 in /usr/local/lib/python3.12/dist-packages (from torch) (0.7.1)\n",
            "Requirement already satisfied: nvidia-nccl-cu12==2.27.3 in /usr/local/lib/python3.12/dist-packages (from torch) (2.27.3)\n",
            "Requirement already satisfied: nvidia-nvtx-cu12==12.6.77 in /usr/local/lib/python3.12/dist-packages (from torch) (12.6.77)\n",
            "Requirement already satisfied: nvidia-nvjitlink-cu12==12.6.85 in /usr/local/lib/python3.12/dist-packages (from torch) (12.6.85)\n",
            "Requirement already satisfied: nvidia-cufile-cu12==1.11.1.6 in /usr/local/lib/python3.12/dist-packages (from torch) (1.11.1.6)\n",
            "Requirement already satisfied: triton==3.4.0 in /usr/local/lib/python3.12/dist-packages (from torch) (3.4.0)\n",
            "Requirement already satisfied: numpy in /usr/local/lib/python3.12/dist-packages (from torchvision) (2.0.2)\n",
            "Requirement already satisfied: pillow!=8.3.*,>=5.3.0 in /usr/local/lib/python3.12/dist-packages (from torchvision) (11.3.0)\n",
            "Requirement already satisfied: mpmath<1.4,>=1.1.0 in /usr/local/lib/python3.12/dist-packages (from sympy>=1.13.3->torch) (1.3.0)\n",
            "Requirement already satisfied: MarkupSafe>=2.0 in /usr/local/lib/python3.12/dist-packages (from jinja2->torch) (3.0.2)\n"
          ]
        }
      ]
    },
    {
      "cell_type": "code",
      "source": [
        "%cd /content/drive/MyDrive/Ai_Lab/Hand_Writing/models_github/deep-text-recognition-benchmark-master_per"
      ],
      "metadata": {
        "colab": {
          "base_uri": "https://localhost:8080/"
        },
        "id": "r1JT2vEn1sxi",
        "outputId": "71b7aa67-1a11-46ef-9794-7bb683817106"
      },
      "execution_count": null,
      "outputs": [
        {
          "output_type": "stream",
          "name": "stdout",
          "text": [
            "/content/drive/MyDrive/Ai_Lab/Hand_Writing/models_github/deep-text-recognition-benchmark-master_per\n"
          ]
        }
      ]
    },
    {
      "cell_type": "code",
      "source": [
        "!python3 create_lmdb_dataset.py \\\n",
        "  --inputPath output \\\n",
        "  --gtFile output/labels.txt \\\n",
        "  --outputPath lmdb_output"
      ],
      "metadata": {
        "id": "osiwPuYU1ss5",
        "colab": {
          "base_uri": "https://localhost:8080/"
        },
        "outputId": "b9c79777-c296-4261-8533-bd47fd7fb8ba"
      },
      "execution_count": null,
      "outputs": [
        {
          "output_type": "stream",
          "name": "stdout",
          "text": [
            "Created dataset with 18 samples\n"
          ]
        }
      ]
    },
    {
      "cell_type": "code",
      "source": [],
      "metadata": {
        "id": "hdElFyIQ1sqi"
      },
      "execution_count": null,
      "outputs": []
    },
    {
      "cell_type": "markdown",
      "source": [
        "# Show LMDB"
      ],
      "metadata": {
        "id": "KEAvpifVnII5"
      }
    },
    {
      "cell_type": "code",
      "source": [
        "import lmdb\n",
        "import cv2\n",
        "import numpy as np\n",
        "from google.colab import drive\n",
        "import os"
      ],
      "metadata": {
        "id": "PJRL53W-7jDW"
      },
      "execution_count": null,
      "outputs": []
    },
    {
      "cell_type": "code",
      "source": [
        "\n",
        "# مسیر دیتابیس LMDB\n",
        "lmdb_path = \"/content/drive/MyDrive/Ai_Lab/Hand_Writing/models_github/deep-text-recognition-benchmark-master_per/lmdb_output\"\n",
        "\n",
        "# باز کردن دیتابیس LMDB\n",
        "env = lmdb.open(lmdb_path, readonly=True, lock=False)\n",
        "\n",
        "# خواندن تعداد نمونه‌ها\n",
        "with env.begin() as txn:\n",
        "    num_samples = int(txn.get('num-samples'.encode()).decode())\n",
        "    print(f\"Number of samples: {num_samples}\")\n",
        "\n",
        "# خواندن تصاویر و برچسب‌ها\n",
        "images = []\n",
        "labels = []\n",
        "\n",
        "with env.begin() as txn:\n",
        "    for i in range(1, num_samples + 1):\n",
        "        # کلیدهای تصویر و برچسب\n",
        "        image_key = f'image-{i:09d}'.encode()\n",
        "        label_key = f'label-{i:09d}'.encode()\n",
        "\n",
        "        # خواندن داده باینری تصویر\n",
        "        image_bin = txn.get(image_key)\n",
        "        if image_bin is None:\n",
        "            print(f\"Image {image_key.decode()} not found\")\n",
        "            continue\n",
        "\n",
        "        # خواندن برچسب\n",
        "        label = txn.get(label_key).decode()\n",
        "        if label is None:\n",
        "            print(f\"Label {label_key.decode()} not found\")\n",
        "            continue\n",
        "\n",
        "        # تبدیل داده باینری به تصویر\n",
        "        image_buf = np.frombuffer(image_bin, dtype=np.uint8)\n",
        "        image = cv2.imdecode(image_buf, cv2.IMREAD_GRAYSCALE)\n",
        "        if image is None:\n",
        "            print(f\"Failed to decode image {image_key.decode()}\")\n",
        "            continue\n",
        "\n",
        "        images.append(image)\n",
        "        labels.append(label)\n",
        "        print(f\"Image {i}: {label}\")\n",
        "\n",
        "# نمایش یا ذخیره تصاویر (اختیاری)\n",
        "output_dir = \"/content/drive/MyDrive/Ai_Lab/Hand_Writing/models_github/deep-text-recognition-benchmark-master/show_er/extracted_images\"\n",
        "os.makedirs(output_dir, exist_ok=True)\n",
        "\n",
        "for i, (image, label) in enumerate(zip(images, labels)):\n",
        "    output_path = os.path.join(output_dir, f\"extracted_image_{i+1}.png\")\n",
        "    cv2.imwrite(output_path, image)\n",
        "    print(f\"Saved {output_path} with label: {label}\")\n",
        "\n",
        "# ذخیره برچسب‌ها در یک فایل (اختیاری)\n",
        "with open(\"/content/drive/MyDrive/Ai_Lab/Hand_Writing/models_github/deep-text-recognition-benchmark-master/show_er/extracted_labels.txt\", \"w\") as f:\n",
        "    for i, label in enumerate(labels):\n",
        "        f.write(f\"image_{i+1}.png {label}\\n\")\n",
        "\n",
        "print(\"Extraction completed!\")"
      ],
      "metadata": {
        "id": "ww6NAcpEvBT1",
        "colab": {
          "base_uri": "https://localhost:8080/"
        },
        "outputId": "ac480f84-86cf-477e-838d-3042db92806f"
      },
      "execution_count": null,
      "outputs": [
        {
          "output_type": "stream",
          "name": "stdout",
          "text": [
            "Number of samples: 18\n",
            "Image 1: مخزن\n",
            "Image 2: مخزن\n",
            "Image 3: مخزن\n",
            "Image 4: دستی\n",
            "Image 5: دستی\n",
            "Image 6: دستی\n",
            "Image 7: هدف\n",
            "Image 8: هدف\n",
            "Image 9: هدف\n",
            "Image 10: داد\n",
            "Image 11: داد\n",
            "Image 12: داد\n",
            "Image 13: از\n",
            "Image 14: از\n",
            "Image 15: از\n",
            "Image 16: مدیر\n",
            "Image 17: مدیر\n",
            "Image 18: مدیر\n",
            "Saved /content/drive/MyDrive/Ai_Lab/Hand_Writing/models_github/deep-text-recognition-benchmark-master/show_er/extracted_images/extracted_image_1.png with label: مخزن\n",
            "Saved /content/drive/MyDrive/Ai_Lab/Hand_Writing/models_github/deep-text-recognition-benchmark-master/show_er/extracted_images/extracted_image_2.png with label: مخزن\n",
            "Saved /content/drive/MyDrive/Ai_Lab/Hand_Writing/models_github/deep-text-recognition-benchmark-master/show_er/extracted_images/extracted_image_3.png with label: مخزن\n",
            "Saved /content/drive/MyDrive/Ai_Lab/Hand_Writing/models_github/deep-text-recognition-benchmark-master/show_er/extracted_images/extracted_image_4.png with label: دستی\n",
            "Saved /content/drive/MyDrive/Ai_Lab/Hand_Writing/models_github/deep-text-recognition-benchmark-master/show_er/extracted_images/extracted_image_5.png with label: دستی\n",
            "Saved /content/drive/MyDrive/Ai_Lab/Hand_Writing/models_github/deep-text-recognition-benchmark-master/show_er/extracted_images/extracted_image_6.png with label: دستی\n",
            "Saved /content/drive/MyDrive/Ai_Lab/Hand_Writing/models_github/deep-text-recognition-benchmark-master/show_er/extracted_images/extracted_image_7.png with label: هدف\n",
            "Saved /content/drive/MyDrive/Ai_Lab/Hand_Writing/models_github/deep-text-recognition-benchmark-master/show_er/extracted_images/extracted_image_8.png with label: هدف\n",
            "Saved /content/drive/MyDrive/Ai_Lab/Hand_Writing/models_github/deep-text-recognition-benchmark-master/show_er/extracted_images/extracted_image_9.png with label: هدف\n",
            "Saved /content/drive/MyDrive/Ai_Lab/Hand_Writing/models_github/deep-text-recognition-benchmark-master/show_er/extracted_images/extracted_image_10.png with label: داد\n",
            "Saved /content/drive/MyDrive/Ai_Lab/Hand_Writing/models_github/deep-text-recognition-benchmark-master/show_er/extracted_images/extracted_image_11.png with label: داد\n",
            "Saved /content/drive/MyDrive/Ai_Lab/Hand_Writing/models_github/deep-text-recognition-benchmark-master/show_er/extracted_images/extracted_image_12.png with label: داد\n",
            "Saved /content/drive/MyDrive/Ai_Lab/Hand_Writing/models_github/deep-text-recognition-benchmark-master/show_er/extracted_images/extracted_image_13.png with label: از\n",
            "Saved /content/drive/MyDrive/Ai_Lab/Hand_Writing/models_github/deep-text-recognition-benchmark-master/show_er/extracted_images/extracted_image_14.png with label: از\n",
            "Saved /content/drive/MyDrive/Ai_Lab/Hand_Writing/models_github/deep-text-recognition-benchmark-master/show_er/extracted_images/extracted_image_15.png with label: از\n",
            "Saved /content/drive/MyDrive/Ai_Lab/Hand_Writing/models_github/deep-text-recognition-benchmark-master/show_er/extracted_images/extracted_image_16.png with label: مدیر\n",
            "Saved /content/drive/MyDrive/Ai_Lab/Hand_Writing/models_github/deep-text-recognition-benchmark-master/show_er/extracted_images/extracted_image_17.png with label: مدیر\n",
            "Saved /content/drive/MyDrive/Ai_Lab/Hand_Writing/models_github/deep-text-recognition-benchmark-master/show_er/extracted_images/extracted_image_18.png with label: مدیر\n",
            "Extraction completed!\n"
          ]
        }
      ]
    },
    {
      "cell_type": "markdown",
      "source": [
        "# Finr Tune"
      ],
      "metadata": {
        "id": "5hKYies_5D1f"
      }
    },
    {
      "cell_type": "code",
      "source": [
        "!python3 train.py \\\n",
        "  --train_data  lmdb_output \\\n",
        "  --valid_data  lmdb_output \\\n",
        "  --select_data   \"/\" \\\n",
        "  --batch_ratio     1.0 \\\n",
        "  --Transformation    TPS \\\n",
        "  --FeatureExtraction    ResNet \\\n",
        "  --SequenceModeling    BiLSTM \\\n",
        "  --Prediction    Attn \\\n",
        "  --batch_size    2 \\\n",
        "  --data_filtering_off  \\\n",
        "  --workers    0 \\\n",
        "  --batch_max_length    80 \\\n",
        "  --num_iter    20 \\\n",
        "  --valInterval    5 \\\n",
        "  --saved_model   TPS-ResNet-BiLSTM-Attn.pth"
      ],
      "metadata": {
        "colab": {
          "base_uri": "https://localhost:8080/"
        },
        "id": "ZroFg27x5DnI",
        "outputId": "f08272c0-5d75-423d-8674-f841e2b179bf"
      },
      "execution_count": null,
      "outputs": [
        {
          "output_type": "stream",
          "name": "stdout",
          "text": [
            "--------------------------------------------------------------------------------\n",
            "dataset_root: lmdb_output\n",
            "opt.select_data: ['/']\n",
            "opt.batch_ratio: ['1.0']\n",
            "--------------------------------------------------------------------------------\n",
            "dataset_root:    lmdb_output\t dataset: /\n",
            "sub-directory:\t/.\t num samples: 18\n",
            "num total samples of /: 18 x 1.0 (total_data_usage_ratio) = 18\n",
            "num samples of / per batch: 2 x 1.0 (batch_ratio) = 2\n",
            "--------------------------------------------------------------------------------\n",
            "Total_batch_size: 2 = 2\n",
            "--------------------------------------------------------------------------------\n",
            "dataset_root:    lmdb_output\t dataset: /\n",
            "sub-directory:\t/.\t num samples: 18\n",
            "--------------------------------------------------------------------------------\n",
            "model input parameters 32 100 20 1 512 256 71 80 TPS ResNet BiLSTM Attn\n",
            "Skip Transformation.LocalizationNetwork.localization_fc2.weight as it is already initialized\n",
            "Skip Transformation.LocalizationNetwork.localization_fc2.bias as it is already initialized\n",
            "loading pretrained model from TPS-ResNet-BiLSTM-Attn.pth\n",
            "Traceback (most recent call last):\n",
            "  File \"/content/drive/MyDrive/Ai_Lab/Hand_Writing/models_github/deep-text-recognition-benchmark-master_per/train.py\", line 317, in <module>\n",
            "    train(opt)\n",
            "  File \"/content/drive/MyDrive/Ai_Lab/Hand_Writing/models_github/deep-text-recognition-benchmark-master_per/train.py\", line 86, in train\n",
            "    model.load_state_dict(torch.load(opt.saved_model))\n",
            "  File \"/usr/local/lib/python3.12/dist-packages/torch/nn/modules/module.py\", line 2624, in load_state_dict\n",
            "    raise RuntimeError(\n",
            "RuntimeError: Error(s) in loading state_dict for DataParallel:\n",
            "\tsize mismatch for module.Prediction.attention_cell.rnn.weight_ih: copying a param with shape torch.Size([1024, 294]) from checkpoint, the shape in current model is torch.Size([1024, 327]).\n",
            "\tsize mismatch for module.Prediction.generator.weight: copying a param with shape torch.Size([38, 256]) from checkpoint, the shape in current model is torch.Size([71, 256]).\n",
            "\tsize mismatch for module.Prediction.generator.bias: copying a param with shape torch.Size([38]) from checkpoint, the shape in current model is torch.Size([71]).\n"
          ]
        }
      ]
    },
    {
      "cell_type": "code",
      "source": [],
      "metadata": {
        "id": "lmCpZgohvBRk"
      },
      "execution_count": null,
      "outputs": []
    },
    {
      "cell_type": "markdown",
      "source": [
        "# Inference with Fine-tuned Model"
      ],
      "metadata": {
        "id": "Zg07aj2GEvCS"
      }
    },
    {
      "cell_type": "code",
      "source": [
        "!python3 demo.py \\\n",
        "  --Transformation   TPS \\\n",
        "  --FeatureExtraction   ResNet \\\n",
        "  --SequenceModeling   BiLSTM \\\n",
        "  --Prediction   Attn \\\n",
        "  --image_folder   er/test_fa \\\n",
        "  --saved_model   saved_models/TPS-ResNet-BiLSTM-Attn-Seed1111/best_accuracy.pth\n"
      ],
      "metadata": {
        "colab": {
          "base_uri": "https://localhost:8080/"
        },
        "id": "P8yZUuFTG75i",
        "outputId": "5e7a4292-7c4a-4237-ede2-f08b8baea5d3"
      },
      "execution_count": null,
      "outputs": [
        {
          "output_type": "stream",
          "name": "stdout",
          "text": [
            "model input parameters 32 100 20 1 512 256 38 25 TPS ResNet BiLSTM Attn\n",
            "loading pretrained model from saved_models/TPS-ResNet-BiLSTM-Attn-Seed1111/best_accuracy.pth\n",
            "/usr/local/lib/python3.12/dist-packages/torch/utils/data/dataloader.py:627: UserWarning: This DataLoader will create 4 worker processes in total. Our suggested max number of worker in current system is 2, which is smaller than what this DataLoader is going to create. Please be aware that excessive worker creation might get DataLoader running slow or even freeze, lower the worker number to avoid potential slowness/freeze if necessary.\n",
            "  warnings.warn(\n",
            "--------------------------------------------------------------------------------\n",
            "image_path               \tpredicted_labels         \tconfidence score\n",
            "--------------------------------------------------------------------------------\n",
            "er/test_fa/0.png         \tol                       \t0.1018\n",
            "er/test_fa/1.png         \ttho                      \t0.0802\n",
            "er/test_fa/2.png         \tgall                     \t0.0044\n",
            "er/test_fa/3.png         \tof                       \t0.1166\n",
            "er/test_fa/4.png         \tcli                      \t0.1936\n",
            "er/test_fa/5.png         \telis                     \t0.0678\n",
            "er/test_fa/6.png         \touts                     \t0.0734\n",
            "er/test_fa/7.png         \tof                       \t0.7495\n",
            "er/test_fa/8.png         \topa                      \t0.3758\n",
            "er/test_fa/9.png         \tcons                     \t0.0183\n",
            "er/test_fa/10.png        \tclas                     \t0.0483\n",
            "er/test_fa/11.png        \tclas                     \t0.0483\n",
            "er/test_fa/12.png        \tof                       \t0.6265\n",
            "er/test_fa/13.png        \tox                       \t0.1359\n",
            "er/test_fa/14.png        \tox                       \t0.1359\n",
            "er/test_fa/15.png        \tox                       \t0.1095\n"
          ]
        }
      ]
    }
  ]
}